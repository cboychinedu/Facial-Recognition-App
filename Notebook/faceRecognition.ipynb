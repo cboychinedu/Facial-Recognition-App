{
 "cells": [
  {
   "cell_type": "code",
   "execution_count": 1,
   "id": "7d4c6701-c867-41b8-b744-30367ec5d9de",
   "metadata": {
    "tags": []
   },
   "outputs": [],
   "source": [
    "#!/usr/bin/env python3 "
   ]
  },
  {
   "cell_type": "code",
   "execution_count": 2,
   "id": "08888ef3-fd5e-4694-994c-0d92803957d2",
   "metadata": {
    "tags": []
   },
   "outputs": [],
   "source": [
    "# Importing the necessary modules \n",
    "from imutils import paths \n",
    "import numpy as np \n",
    "import imutils\n",
    "import pickle\n",
    "import cv2\n",
    "import os"
   ]
  },
  {
   "cell_type": "code",
   "execution_count": 3,
   "id": "f0d356d0-f5a3-4bbb-bbb9-31d125388644",
   "metadata": {
    "tags": []
   },
   "outputs": [],
   "source": [
    "# Setting the path \n",
    "dataset = \"dataset\" \n",
    "embeddings = \"\"\n",
    "detector = \"\"\n",
    "embeddingModel = \"\"\n",
    "confidence = 0.5 "
   ]
  },
  {
   "cell_type": "code",
   "execution_count": null,
   "id": "6a7b58f1-ebea-4c29-9bd1-6c2ceca67b4c",
   "metadata": {},
   "outputs": [],
   "source": []
  },
  {
   "cell_type": "code",
   "execution_count": null,
   "id": "60c6902a-35be-4e48-a223-64c1858d8c67",
   "metadata": {},
   "outputs": [],
   "source": []
  },
  {
   "cell_type": "code",
   "execution_count": null,
   "id": "aa19796e-8516-492f-b6c9-8c1a96a60299",
   "metadata": {},
   "outputs": [],
   "source": []
  },
  {
   "cell_type": "code",
   "execution_count": null,
   "id": "113e445f-854f-4359-9926-c9fe6a5f765f",
   "metadata": {},
   "outputs": [],
   "source": []
  },
  {
   "cell_type": "code",
   "execution_count": null,
   "id": "dcd20a53-eebe-4e88-bd92-0b1198d59bf3",
   "metadata": {},
   "outputs": [],
   "source": []
  }
 ],
 "metadata": {
  "kernelspec": {
   "display_name": "Python 3 (ipykernel)",
   "language": "python",
   "name": "python3"
  },
  "language_info": {
   "codemirror_mode": {
    "name": "ipython",
    "version": 3
   },
   "file_extension": ".py",
   "mimetype": "text/x-python",
   "name": "python",
   "nbconvert_exporter": "python",
   "pygments_lexer": "ipython3",
   "version": "3.7.16"
  }
 },
 "nbformat": 4,
 "nbformat_minor": 5
}
